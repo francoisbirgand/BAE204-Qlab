{
  "nbformat": 4,
  "nbformat_minor": 0,
  "metadata": {
    "colab": {
      "name": "Untitled1.ipynb",
      "provenance": [],
      "authorship_tag": "ABX9TyOOBPyj0QnPbb2WzCln9DMG",
      "include_colab_link": true
    },
    "kernelspec": {
      "name": "ir",
      "display_name": "R"
    },
    "language_info": {
      "name": "R"
    }
  },
  "cells": [
    {
      "cell_type": "markdown",
      "metadata": {
        "id": "view-in-github",
        "colab_type": "text"
      },
      "source": [
        "<a href=\"https://colab.research.google.com/github/francoisbirgand/BAE204-Qlab/blob/master/QClab-colab.ipynb\" target=\"_parent\"><img src=\"https://colab.research.google.com/assets/colab-badge.svg\" alt=\"Open In Colab\"/></a>"
      ]
    },
    {
      "cell_type": "code",
      "execution_count": 1,
      "metadata": {
        "colab": {
          "base_uri": "https://localhost:8080/",
          "height": 149
        },
        "id": "LCAYGW9Ih1Ow",
        "outputId": "391f56b5-5f59-4c01-8ccf-bc7687b4b025"
      },
      "outputs": [
        {
          "output_type": "error",
          "ename": "ERROR",
          "evalue": "ignored",
          "traceback": [
            "Error in parse(text = x, srcfile = src): <text>:3:4: unexpected symbol\n2: \n3: At the\n      ^\nTraceback:\n"
          ]
        }
      ],
      "source": [
        "\n",
        "\n",
        "\n"
      ]
    },
    {
      "cell_type": "markdown",
      "source": [
        "# Introduction to hydrographs, chemographs, concentrations, and loads\n",
        "\n",
        "At the end of this lab, you should be able to:\n",
        "\n",
        "- Recognize a hydrograph and name its descriptors\n",
        "- Calculate cumulative flow volumes \n",
        "- Construct flow duration curves and compare them between small and large watersheds\n",
        "- Recognize a chemograph and define its descriptors\n",
        "- Summarize what the arithmetic average and median concentrations are for common pollutants in mostly agricultural watersheds\n",
        "- Calculate cumulative loads at the event and yearly scale\n",
        "- Distinguish between arithmetic and flow weighted concentrations for a variety of common pollutants in mostly agricultural watersheds\n",
        "- Recognize the importance of high flows to the export of pollutants in watersheds\n",
        "\n",
        "</br></br>\n",
        "\n",
        "## Hydrographs as the basic hydrologist tool\n",
        "\n",
        "In hydrology, we work with time series of flow rates and concentrations, and many of the conclusions we make are based on the calculations of water and nutrient fluxes. The title of this paragraph is time series. Indeed, in hydrology we measure flow not on a continuous basis, but rather at a given frequency. In hydrology, we have been able to make measurements at a high frequency (hourly or smaller), for over 100 years. From this high frequency data, it is possible to obtain a visual representation of the variations of flow. \n",
        "\n",
        "The first example below is an example of what we refer to as a simple hydrograph, which follows a rainfall event, with an initial baseflow, a rapidly rising limb, a flow peak, and a more slowly falling limb.\n",
        "\n",
        "\n",
        "\n"
      ],
      "metadata": {
        "id": "H33eGE81ipiP"
      }
    },
    {
      "cell_type": "code",
      "source": [
        "hydgph<-read.csv(file = \"hydgph.csv\", header = TRUE)\n",
        "options(repr.plot.width=12, repr.plot.height=8)\n",
        "names(hydgph)=c(\"date\",\"Q\",\"NO3\")\n",
        "date=as.POSIXct(hydgph$date, format = \"%Y-%m-%d %H:%M:%S\") # transforms the first column of the file, which are characters into dates that R understands\n",
        "Q=hydgph$Q*1000 # Puts in the variable Q the flow rates, which are orginally in m³/s to L/s for better visualization\n",
        "par(mar=c(4.5,4.5,0.5,0.5))\n",
        "xlimHG=as.POSIXct(c(\"1999-01-03 00:00:00\",\"1999-01-08 00:00:00\"));ylimHG=c(50,350) # this defines the plotting ranges for the x and y axes\n",
        "plot(date,Q,xlab = \"date\",ylab = \"Flow rate (L/s)\",type = \"p\",col=\"blue\",xlim=xlimHG,ylim=ylimHG) # this plots the hydrograph"
      ],
      "metadata": {
        "colab": {
          "base_uri": "https://localhost:8080/",
          "height": 218
        },
        "id": "WJXfjK-ciw6x",
        "outputId": "fbece8d4-6b99-4fae-a25e-7792a92fb11c"
      },
      "execution_count": 2,
      "outputs": [
        {
          "output_type": "stream",
          "name": "stderr",
          "text": [
            "Warning message in file(file, \"rt\"):\n",
            "“cannot open file 'hydgph.csv': No such file or directory”\n"
          ]
        },
        {
          "output_type": "error",
          "ename": "ERROR",
          "evalue": "ignored",
          "traceback": [
            "Error in file(file, \"rt\"): cannot open the connection\nTraceback:\n",
            "1. read.csv(file = \"hydgph.csv\", header = TRUE)",
            "2. read.table(file = file, header = header, sep = sep, quote = quote, \n .     dec = dec, fill = fill, comment.char = comment.char, ...)",
            "3. file(file, \"rt\")"
          ]
        }
      ]
    }
  ]
}